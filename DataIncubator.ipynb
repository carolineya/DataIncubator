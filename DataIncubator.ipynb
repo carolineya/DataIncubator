{
 "cells": [
  {
   "cell_type": "markdown",
   "metadata": {},
   "source": [
    "# Plots for Project Proposal"
   ]
  },
  {
   "cell_type": "markdown",
   "metadata": {},
   "source": [
    "When a user posts a question on Stack Exchange, other users may post answers.  The first plot below shows the mean (red) and median (blue) of the fastest response times for all questions posted during the indicated months from 2010 to 2019.\n",
    "\n",
    "Initially I only plotted the mean of the times and was surprised to find that the times were on the order of days.  The median data is more what I would expect to see.  It seems that some questions are not answered for a very long time, but the majority of questions are answered very quickly.  \n",
    "\n",
    "The second plot in this figure shows the steady increase in new users over the an 8-year period.  We can see that the average of the fastest response times decreases as the number of users on Stack Exchange increases, which is what we would expect.  "
   ]
  },
  {
   "cell_type": "markdown",
   "metadata": {},
   "source": [
    "<img src=\"ResponseTimes.png\">"
   ]
  },
  {
   "cell_type": "markdown",
   "metadata": {},
   "source": [
    "I am interested in the presence of users on Stack Exchange.  How often do they ask questions?  How often are answers posted?  When are the busiest hours of the day?  The following two plots answers the third question.  I isolated post data from a more recent year, and looked at the number of questions and answers posted during every hour of each day over the course of the year.\n",
    "\n",
    "From these two plots, we can see that there is a clear peak in activity in the late afternoon/early evening hours between 3:00 pm and 5:00 pm.  It is likely that these are the hours when many students are finished with school and may start their homework for the day, so there is a larger presence of active users during these hours.  These hours may be an optimal time for users to post questions in order to get a faster response."
   ]
  },
  {
   "cell_type": "markdown",
   "metadata": {},
   "source": [
    "<img src=\"Posts.png\">"
   ]
  },
  {
   "cell_type": "code",
   "execution_count": null,
   "metadata": {},
   "outputs": [],
   "source": []
  }
 ],
 "metadata": {
  "kernelspec": {
   "display_name": "Python 3",
   "language": "python",
   "name": "python3"
  },
  "language_info": {
   "codemirror_mode": {
    "name": "ipython",
    "version": 3
   },
   "file_extension": ".py",
   "mimetype": "text/x-python",
   "name": "python",
   "nbconvert_exporter": "python",
   "pygments_lexer": "ipython3",
   "version": "3.6.8"
  }
 },
 "nbformat": 4,
 "nbformat_minor": 2
}
